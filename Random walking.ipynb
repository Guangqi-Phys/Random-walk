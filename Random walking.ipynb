{
 "cells": [
  {
   "cell_type": "markdown",
   "id": "d1cb7cd9-7a2f-49bd-9819-33d9ad8da3bc",
   "metadata": {
    "slideshow": {
     "slide_type": "slide"
    }
   },
   "source": [
    "# Random Walk (Classical & Quantum)"
   ]
  },
  {
   "cell_type": "markdown",
   "id": "68ee7536-fd37-44a5-885e-0d66d358b468",
   "metadata": {
    "slideshow": {
     "slide_type": "slide"
    }
   },
   "source": [
    "## Classical random walk"
   ]
  },
  {
   "cell_type": "markdown",
   "id": "4ef7a349-423b-4822-8a69-c72eb559f2bb",
   "metadata": {
    "slideshow": {
     "slide_type": "skip"
    }
   },
   "source": [
    "A random walk is a process of moving according to a random variable. For the sake of simplicity, considering the one-dimensional case, a atom starting at point 0, moving to the left or right with a probability of 50%, each time the moving distance is 1, and continuing this process. In convention, moving 1 to the left is marked as -1, and moving 1 to the right is marked as +1. We can use a random variable $X_n = \\{-1, 1\\}$ to describe the $nth$ displacement of the atom. Thus, after $n$ moves, the position of the atom on the axis is\n",
    "$$\n",
    "x = \\sum_{i=1}^n X_i\n",
    "$$\n",
    "\n",
    "Notice that $x$ satisfies the binomial distribution, so for probability for $k$ right moves in $n$ moves is\n",
    "$$\n",
    "f(k;n) = C(n,k)(\\frac 12)^k(\\frac12)^{n-k} =\\frac1{2^n} C(n,k)\n",
    "$$\n",
    "and in this case the position after $n$ moves is $x = k - (n-k)$, so $k = \\frac{x+n}2$. For a given $x$, after $n$ movies, the probability that the atom end up at point $x$ is\n",
    "$$\n",
    "p(x;n) = \\frac1{2^n} C(n,\\frac{x+n}2)\n",
    "$$\n",
    "if $ (x+n) \\mod 2 = 0$, otherwise $p(x;n) = 0$."
   ]
  },
  {
   "cell_type": "code",
   "execution_count": 1,
   "id": "fb6ef701-46cf-43a0-b671-15d01188196b",
   "metadata": {
    "slideshow": {
     "slide_type": "skip"
    }
   },
   "outputs": [],
   "source": [
    "## import module\n",
    "import random\n",
    "import numpy as np\n",
    "import matplotlib.pyplot as plt\n",
    "import math\n",
    "import matplotlib\n",
    "import qutip as qt\n",
    "from qutip.measurement import measurement_statistics_povm"
   ]
  },
  {
   "cell_type": "code",
   "execution_count": 2,
   "id": "33f94fa6-9f39-4781-9d15-2eebe841e232",
   "metadata": {
    "slideshow": {
     "slide_type": "skip"
    }
   },
   "outputs": [],
   "source": [
    "## define dunction of combinatorial number\n",
    "def ncr(n,r):\n",
    "    f = math.factorial\n",
    "    return f(n) // f(r) // f(n-r)"
   ]
  },
  {
   "cell_type": "code",
   "execution_count": 3,
   "id": "1aa08704-0609-4a99-880c-9bfa9722619b",
   "metadata": {
    "slideshow": {
     "slide_type": "skip"
    }
   },
   "outputs": [],
   "source": [
    "## main program to get probability for each x and n\n",
    "x_range = np.arange(-100,101)\n",
    "p = []\n",
    "p_xn = []\n",
    "for n in range(0,100):\n",
    "    for i in range(len(x_range)):\n",
    "        if ((x_range[i]+n) % 2 == 0 and n >= abs((x_range[i]+n)/2) and n >= abs((-x_range[i]+n)/2) ):\n",
    "            p.append(ncr(n,abs((x_range[i]+n)/2))/2**n)\n",
    "        else:\n",
    "            p.append(0)\n",
    "    p_xn.append(p)\n",
    "    p = []"
   ]
  },
  {
   "cell_type": "code",
   "execution_count": 20,
   "id": "b7f7922d-603d-4e99-a36a-7e1eb55e0f6c",
   "metadata": {
    "slideshow": {
     "slide_type": "slide"
    }
   },
   "outputs": [
    {
     "data": {
      "image/png": "[encoded data removed]",
      "text/plain": [
       "<Figure size 432x288 with 1 Axes>"
      ]
     },
     "metadata": {
      "needs_background": "light"
     },
     "output_type": "display_data"
    }
   ],
   "source": [
    "## Plot\n",
    "\n",
    "fig, ax = plt.subplots() \n",
    "ax.plot(x_range,p_xn[50])\n",
    "ax.set_xlabel('location x')  # Add an x-label to the axes.\n",
    "ax.set_ylabel('probabilities')  # Add a y-label to the axes.\n",
    "ax.set(xlim=(-100, 100), ylim=(0, 1))\n",
    "plt.title(\"Classical random walk\")\n",
    "matplotlib.rcParams.update({'font.size': 18})\n",
    "plt.show()"
   ]
  },
  {
   "cell_type": "markdown",
   "id": "f38f54fe-80be-45f4-8151-080afa2fe368",
   "metadata": {
    "slideshow": {
     "slide_type": "skip"
    },
    "tags": []
   },
   "source": [
    "Now we focus on the statistical properties of the classical random walk. First, we consider the expectation of $x$ after $n$ moves, because we start from 0, so\n",
    "$$\n",
    "E(x) = E(\\sum_{i = 1}^n X_i) = E(X_1) + E(X_2) + \\cdots + E(X_n) = 0 + 0 + \\cdots + 0 = 0\n",
    "$$\n",
    "means the average displacement after $n$ moves is 0, which is reasonable because move left and move right is symmetrical.\n",
    "\n",
    "Consider the expectation of $x^2$ after $n$ moves, which illstrate the average distance the atom moves (this can tell us how far the atom can move after $n$ steps, or how fast it can move), we have\n",
    "$$\n",
    "E(x^2) = E(\\sum_{i = 1}^n X_i\\sum_{j = 1}^n X_j) = \\sum_{i=1}^{n}X_i^2 + \\sum_{i \\neq j}X_iX_j = \\sum_{i=1}^{n}1 + 0  = n\n",
    "$$\n",
    "$\\sum_{i \\neq j}X_iX_j = 0$ because $X_i$ and $X_j$ have no correlations. This equation give us a important conclusion: **For the classical random walk, the variance after $n$ steps is proportional to the $\\sqrt{n}$, namely $\\sqrt{E(x^2)}_n \\propto \\sqrt{n}$.**"
   ]
  },
  {
   "cell_type": "markdown",
   "id": "e27e0ce5-e77d-4992-825d-8d618e1b594f",
   "metadata": {},
   "source": [
    "## Quantum random walk"
   ]
  },
  {
   "cell_type": "markdown",
   "id": "b628090c-7b1d-49be-8683-41d5bf144f54",
   "metadata": {},
   "source": [
    "Now we consider the quantum case."
   ]
  },
  {
   "cell_type": "markdown",
   "id": "bb438fc6-236f-4b09-ab08-453b06ea9b35",
   "metadata": {},
   "source": [
    "Instead of just considering the position of the atom, we add a spin freedom here. Now, the states of a atom can be written as\n",
    "$$\n",
    "|s\\rangle\\otimes |x\\rangle\n",
    "$$\n",
    "where $s$ for spin. "
   ]
  },
  {
   "cell_type": "markdown",
   "id": "0bf50c1b-217f-4ada-b8d9-b168b2a8c20d",
   "metadata": {},
   "source": [
    "<!-- Notice that the random walk is a Markov process, we can use a state transition matrix to describe it \n",
    "$$\n",
    "S = \\left[\\begin{array}{cc}\n",
    "1-p_1 & p_2 \\\\\n",
    "p_1 & 1-p_2 \\\\\n",
    "\\end{array}\\right].\n",
    "$$\n",
    "with $p_1+p_2 = 1$. For example, if a state initialized in $|0\\rangle = (1,0)^T$, after one transition, the state becomes $S|0\\rangle = (1-p_1,p_1)^T$, which means it with probability $1-p_1$ in state $|0\\rangle$, and with probability $p_1$ in state $|1\\rangle$. When $p_1 = p_2 = 0.5$, the state transition matrix is just the Hadamard gate\n",
    "$$\n",
    "H = \\frac12\\left[\\begin{array}{cc}\n",
    " &  \\\\\n",
    "p_1 & 1-p_2 \\\\\n",
    "\\end{array}\\right].\n",
    "$$ -->"
   ]
  },
  {
   "cell_type": "markdown",
   "id": "dd177f61-d61c-4d76-80d2-a534874cae1e",
   "metadata": {},
   "source": [
    "Similarly to the classical case, here we consider a quantum random walk contains two steps, step 1, apply a hardmard gate to the spin, and apply different position shift operation based on the spin states, and the position shift operation is\n",
    "$$\n",
    "S = |0\\rangle\\langle 0|\\otimes\\sum_x|x-1\\rangle\\langle x|+|1\\rangle\\langle 1|\\otimes\\sum_x|x+1\\rangle\\langle x|\n",
    "$$\n",
    "which meas that if the spin state is $|0\\rangle$, the atom will move left by one, while if the spin state is $|1\\rangle$ the atom will move right by one. One thing to note is that the initial state cannot be $|+\\rangle$, because in this case, after Hadamard gate, the state will be $|0\\rangle$, and it will give us no randomness. So we need to carefully chose our initial gate as\n",
    "$$\n",
    "|\\psi_0\\rangle = \\frac{1}{\\sqrt{2}}(|0\\rangle+i|1\\rangle)\\otimes|x_0\\rangle.\n",
    "$$\n",
    "You can check that with this state, we always have the randomness.\n",
    "\n",
    "Now we analyse the statistic properties of the quantum random walk. Such a process can be simulated by using qutip."
   ]
  },
  {
   "cell_type": "code",
   "execution_count": 6,
   "id": "8003d7d0-365e-4568-adf6-78f8eb63f6bd",
   "metadata": {},
   "outputs": [],
   "source": [
    "nmax = 200\n",
    "phi = qt.basis(nmax,100)\n",
    "a = np.diag(np.ones(nmax-1),1)\n",
    "a = qt.Qobj(a)"
   ]
  },
  {
   "cell_type": "code",
   "execution_count": 7,
   "id": "11417994-7edd-42bd-a14b-8e7afbfb888a",
   "metadata": {},
   "outputs": [
    {
     "name": "stderr",
     "output_type": "stream",
     "text": [
      "/Users/zundoko/.local/lib/python3.7/site-packages/ipykernel_launcher.py:4: DeprecationWarning: Importing functions/classes of the qip submodule directly from the namespace qutip is deprecated. Please import them from the submodule instead, e.g.\n",
      "from qutip.qip.operations import cnot\n",
      "from qutip.qip.circuit import QubitCircuit\n",
      "\n",
      "  after removing the cwd from sys.path.\n"
     ]
    }
   ],
   "source": [
    "psi0 = qt.basis(2,0)\n",
    "psi1 = qt.basis(2,1)\n",
    "up = (psi0+1j*psi1)/math.sqrt(2)\n",
    "Cop = qt.tensor(qt.snot(),qt.identity(nmax))\n",
    "Sop = qt.tensor(psi0*psi0.dag(), a) + qt.tensor(psi1*psi1.dag(), a.dag())"
   ]
  },
  {
   "cell_type": "code",
   "execution_count": 8,
   "id": "543891bf-6cda-4d3d-b335-b19c3b43e782",
   "metadata": {},
   "outputs": [],
   "source": [
    "state0 = qt.tensor(up,phi)"
   ]
  },
  {
   "cell_type": "code",
   "execution_count": 9,
   "id": "01d02c91-f174-4b49-8c6d-9f0281995551",
   "metadata": {},
   "outputs": [],
   "source": [
    "proj = [qt.basis(nmax,i)*qt.basis(nmax,i).dag() for i in range(nmax)]\n",
    "prob = []\n",
    "for i in range(100):\n",
    "    state0 = Sop*Cop*state0\n",
    "    state1 = state0.unit()\n",
    "    state1 = state1.ptrace(1)\n",
    "    eigenstates,probabilities= measurement_statistics_povm(state1,proj,targets=None)\n",
    "    prob.append(probabilities)"
   ]
  },
  {
   "cell_type": "code",
   "execution_count": 25,
   "id": "95cb3835-7652-49c9-9de4-9fd5a7b2d713",
   "metadata": {},
   "outputs": [
    {
     "data": {
      "image/png": "[encoded data removed]",
      "text/plain": [
       "<Figure size 432x288 with 1 Axes>"
      ]
     },
     "metadata": {
      "needs_background": "light"
     },
     "output_type": "display_data"
    }
   ],
   "source": [
    "## Plot\n",
    "\n",
    "x_ran = np.arange(-100,100)\n",
    "fig, ax = plt.subplots() \n",
    "ax.plot(x_ran,prob[40])\n",
    "ax.set_xlabel('location x')  # Add an x-label to the axes.\n",
    "ax.set_ylabel('probabilities')  # Add a y-label to the axes.\n",
    "ax.set(xlim=(-100, 100), ylim=(0, 1))\n",
    "\n",
    "plt.title(\"Quantum random walk\")\n",
    "\n",
    "matplotlib.rcParams.update({'font.size': 18})\n",
    "plt.show()"
   ]
  },
  {
   "cell_type": "markdown",
   "id": "b460ba2a-084a-47db-9d43-40aac98e16ef",
   "metadata": {},
   "source": [
    "Now we compute the variance after $n$ walks."
   ]
  },
  {
   "cell_type": "code",
   "execution_count": 11,
   "id": "ef93689a-6ef3-4a4d-b8ba-603f29018fe3",
   "metadata": {},
   "outputs": [],
   "source": [
    "## variance of quantum simulation\n",
    "vari_q = []\n",
    "variance = 0\n",
    "for i in range(len(prob)):\n",
    "    for j in range(len(prob[i])):\n",
    "        variance = variance + x_ran[j]**2*prob[i][j]\n",
    "    vari_q.append(np.sqrt(variance))\n",
    "    variance = 0"
   ]
  },
  {
   "cell_type": "code",
   "execution_count": 12,
   "id": "537f796c-cbf1-4558-ae83-7e0860fbc45f",
   "metadata": {},
   "outputs": [],
   "source": [
    "## variance of classical simulation\n",
    "vari_c = []\n",
    "variance = 0\n",
    "for i in range(len(p_xn)):\n",
    "    for j in range(len(p_xn[i])):\n",
    "        variance = variance + x_range[j]**2*p_xn[i][j]\n",
    "    vari_c.append(np.sqrt(variance))\n",
    "    variance = 0"
   ]
  },
  {
   "cell_type": "code",
   "execution_count": 13,
   "id": "ef1b0065-0a76-419f-a0c0-d95b5cced005",
   "metadata": {},
   "outputs": [
    {
     "data": {
      "image/png": "[encoded data removed]",
      "text/plain": [
       "<Figure size 432x288 with 1 Axes>"
      ]
     },
     "metadata": {
      "needs_background": "light"
     },
     "output_type": "display_data"
    }
   ],
   "source": [
    "## Plot\n",
    "\n",
    "steps = np.arange(0,100)\n",
    "fig, ax = plt.subplots() \n",
    "ax.plot(steps, vari_q, label = 'quantum')\n",
    "ax.plot(steps, vari_c, label = 'classical')\n",
    "ax.set_xlabel('location x')  # Add an x-label to the axes.\n",
    "ax.set_ylabel('$\\sqrt{<x^2>}$')  # Add a y-label to the axes.\n",
    "ax.set(xlim=(0, 100), ylim=(0, 100))\n",
    "\n",
    "plt.title(\"Quantum VS. Classical\")\n",
    "\n",
    "matplotlib.rcParams.update({'font.size': 18})\n",
    "ax.legend()\n",
    "plt.show()"
   ]
  },
  {
   "cell_type": "markdown",
   "id": "a83534ce-ce97-43f2-b035-cdc2be6a7871",
   "metadata": {},
   "source": [
    "Thus, we can see that, different from classical random walk **For the quantum random walk, the variance after $n$ steps is proportional to the $n$, namely $\\sqrt{E(x^2)}_n \\propto n$,** which shows the quantum advantages."
   ]
  },
  {
   "cell_type": "markdown",
   "id": "4d66c948-d249-4eaa-b5b1-d587215acb34",
   "metadata": {},
   "source": []
  },
  {
   "cell_type": "code",
   "execution_count": null,
   "id": "a05d62a9-75d2-4c3e-ad05-30a789320b55",
   "metadata": {},
   "outputs": [],
   "source": []
  }
 ],
 "metadata": {
  "celltoolbar": "Slideshow",
  "kernelspec": {
   "display_name": "Python 3",
   "language": "python",
   "name": "python3"
  },
  "language_info": {
   "codemirror_mode": {
    "name": "ipython",
    "version": 3
   },
   "file_extension": ".py",
   "mimetype": "text/x-python",
   "name": "python",
   "nbconvert_exporter": "python",
   "pygments_lexer": "ipython3",
   "version": "3.7.10"
  },
  "toc-autonumbering": true,
  "toc-showtags": false
 },
 "nbformat": 4,
 "nbformat_minor": 5
}
